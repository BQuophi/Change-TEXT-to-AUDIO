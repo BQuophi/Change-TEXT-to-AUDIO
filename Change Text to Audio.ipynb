{
 "cells": [
  {
   "cell_type": "code",
   "execution_count": 2,
   "id": "1df9d775",
   "metadata": {},
   "outputs": [],
   "source": [
    "# First install the library : pyttsx3, which is a text-to-speech conversion library in python.\n",
    "# pip install pyttsx3\n",
    "import pyttsx3 \n",
    "# Here, we use a variable that we can name voice_speaker\n",
    "voice_speaker = pyttsx3.init()\n",
    "voice_speaker.say('Hello, this is how we change a text into audio using python. I hope you get it.')\n",
    "voice_speaker.runAndWait()\n",
    "\n",
    "# After running code, you will a voice reading the words: 'Hello this is .......get it', as typed above."
   ]
  }
 ],
 "metadata": {
  "kernelspec": {
   "display_name": "Python 3 (ipykernel)",
   "language": "python",
   "name": "python3"
  },
  "language_info": {
   "codemirror_mode": {
    "name": "ipython",
    "version": 3
   },
   "file_extension": ".py",
   "mimetype": "text/x-python",
   "name": "python",
   "nbconvert_exporter": "python",
   "pygments_lexer": "ipython3",
   "version": "3.9.7"
  }
 },
 "nbformat": 4,
 "nbformat_minor": 5
}
